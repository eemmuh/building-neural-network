{
 "cells": [
  {
   "cell_type": "code",
   "execution_count": 5,
   "id": "d18b1865-70bd-457e-84f4-9b7f62300c30",
   "metadata": {},
   "outputs": [],
   "source": [
    "import numpy as np"
   ]
  },
  {
   "cell_type": "code",
   "execution_count": 6,
   "id": "976f40d3-5a15-4cdb-97e5-a294604509eb",
   "metadata": {},
   "outputs": [],
   "source": [
    "# initialize weights and biases\n",
    "# assume network has 2 input features, 3 neurons in the hidden layer, and 1 output neuron\n",
    "def initialize_parameters(input_dim, hidden_dim, output_dim):\n",
    "    np.random.seed(1)\n",
    "    W1 = np.random.randn(hidden_dim, input_dim) * 0.01\n",
    "    b1 = np.zeros((hidden_dim, 1))\n",
    "    W2 = np.random.randn(output_dim, hidden_dim) * 0.01\n",
    "    b2 = np.zeros((output_dim, 1))\n",
    "    return W1, b1, W2, b2"
   ]
  },
  {
   "cell_type": "code",
   "execution_count": 7,
   "id": "201a2ac0-4717-4379-aff0-cd37b006781a",
   "metadata": {},
   "outputs": [],
   "source": [
    "# use sigmoid function as activation function and its derivative for backpropagation\n",
    "def sigmoid(x):\n",
    "    return 1 / (1 + np.exp(-x))\n",
    "\n",
    "def sigmoid_derivative(x):\n",
    "    return sigmoid(x) * (1 - sigmoid(x))"
   ]
  },
  {
   "cell_type": "code",
   "execution_count": 8,
   "id": "a2921e6b-bc79-4aad-9f25-75f45a224634",
   "metadata": {},
   "outputs": [],
   "source": [
    "# forward propagation step computes the output of network\n",
    "def forward_propagation(X, W1, b1, W2, b2):\n",
    "    Z1 = np.dot(W1, X) + b1\n",
    "    A1 = sigmoid(Z1)\n",
    "    Z2 = np.dot(W2, A1) + b2\n",
    "    A2 = sigmoid(Z2)\n",
    "    return A2, A1"
   ]
  },
  {
   "cell_type": "code",
   "execution_count": 9,
   "id": "008af4f5-6d81-4707-b606-71c431a1d439",
   "metadata": {},
   "outputs": [],
   "source": [
    "# use binary cross-entropy as our cost function\n",
    "def compute_cost(A2, Y):\n",
    "    m = Y.shape[1]\n",
    "    cost = -np.sum(Y * np.log(A2) + (1 - Y) * np.log(1 - A2)) / m\n",
    "    return cost"
   ]
  },
  {
   "cell_type": "code",
   "execution_count": 10,
   "id": "e9ed80b3-d17b-4895-adbe-f21690068f94",
   "metadata": {},
   "outputs": [],
   "source": [
    "# backpropagation computes gradients and updates weights and biases\n",
    "def backpropagation(X, Y, A2, A1, W2):\n",
    "    m = X.shape[1]\n",
    "\n",
    "    dZ2 = A2 - Y\n",
    "    dW2 = np.dot(dZ2, A1.T) / m\n",
    "    db2 = np.sum(dZ2, axis=1, keepdims=True) / m\n",
    "\n",
    "    dA1 = np.dot(W2.T, dZ2)\n",
    "    dZ1 = dA1 * sigmoid_derivative(A1)\n",
    "    dW1 = np.dot(dZ1, X.T) / m\n",
    "    db1 = np.sum(dZ1, axis=1, keepdims=True) / m\n",
    "\n",
    "    gradients = {\"dW1\": dW1, \"db1\": db1, \"dW2\": dW2, \"db2\": db2}\n",
    "    return gradients"
   ]
  },
  {
   "cell_type": "code",
   "execution_count": 11,
   "id": "4cf7a814-99e8-4d9d-88d6-e4f3c302bf53",
   "metadata": {},
   "outputs": [],
   "source": [
    "# use gradient descent to update the weights and biases\n",
    "def update_parameters(parameters, gradients, learning_rate):\n",
    "    W1, b1, W2, b2 = parameters\n",
    "    dW1, db1, dW2, db2 = gradients[\"dW1\"], gradients[\"db1\"], gradients[\"dW2\"], gradients[\"db2\"]\n",
    "\n",
    "    W1 -= learning_rate * dW1\n",
    "    b1 -= learning_rate * db1\n",
    "    W2 -= learning_rate * dW2\n",
    "    b2 -= learning_rate * db2\n",
    "\n",
    "    updated_parameters = (W1, b1, W2, b2)\n",
    "    return updated_parameters"
   ]
  },
  {
   "cell_type": "code",
   "execution_count": 12,
   "id": "a6ffaf7f-a90b-45aa-b3aa-085943ac9dd8",
   "metadata": {},
   "outputs": [],
   "source": [
    "# train network\n",
    "def train(X, Y, input_dim, hidden_dim, output_dim, num_iterations, learning_rate):\n",
    "    W1, b1, W2, b2 = initialize_parameters(input_dim, hidden_dim, output_dim)\n",
    "\n",
    "    for i in range(num_iterations):\n",
    "        A2, A1 = forward_propagation(X, W1, b1, W2, b2)\n",
    "        cost = compute_cost(A2, Y)\n",
    "        gradients = backpropagation(X, Y, A2, A1, W2)\n",
    "        parameters = (W1, b1, W2, b2)\n",
    "        updated_parameters = update_parameters(parameters, gradients, learning_rate)\n",
    "        W1, b1, W2, b2 = updated_parameters\n",
    "\n",
    "        if i % 100 == 0:\n",
    "            print(f\"Iteration {i}: cost = {cost}\")\n",
    "\n",
    "    return W1, b1, W2, b2"
   ]
  },
  {
   "cell_type": "code",
   "execution_count": 13,
   "id": "44d93a52-fcd8-4d7c-9674-9c69021bb9d8",
   "metadata": {},
   "outputs": [],
   "source": [
    "# predictions\n",
    "def predict(X, W1, b1, W2, b2):\n",
    "    A2, _ = forward_propagation(X, W1, b1, W2, b2)\n",
    "    return A2 > 0.5"
   ]
  },
  {
   "cell_type": "code",
   "execution_count": 14,
   "id": "8afcb3b8-cbff-4d0e-835b-7e31804e38bf",
   "metadata": {},
   "outputs": [
    {
     "name": "stdout",
     "output_type": "stream",
     "text": [
      "Iteration 0: cost = 0.6931525351423371\n",
      "Iteration 100: cost = 0.6931494113199154\n",
      "Iteration 200: cost = 0.6931481099855977\n",
      "Iteration 300: cost = 0.6931475678712277\n",
      "Iteration 400: cost = 0.6931473420353962\n",
      "Iteration 500: cost = 0.6931472479559345\n",
      "Iteration 600: cost = 0.6931472087639801\n",
      "Iteration 700: cost = 0.6931471924372491\n",
      "Iteration 800: cost = 0.6931471856357926\n",
      "Iteration 900: cost = 0.6931471828024092\n",
      "Predictions: [[ True  True  True  True]]\n"
     ]
    }
   ],
   "source": [
    "# example dataset\n",
    "X = np.array([[0, 0, 1, 1], [0, 1, 0, 1]])  # 2 features\n",
    "Y = np.array([[0, 1, 1, 0]])  # binary output\n",
    "\n",
    "# train network\n",
    "input_dim = 2\n",
    "hidden_dim = 3\n",
    "output_dim = 1\n",
    "num_iterations = 1000\n",
    "learning_rate = 0.01\n",
    "\n",
    "W1, b1, W2, b2 = train(X, Y, input_dim, hidden_dim, output_dim, num_iterations, learning_rate)\n",
    "\n",
    "# predict\n",
    "predictions = predict(X, W1, b1, W2, b2)\n",
    "print(\"Predictions:\", predictions)"
   ]
  },
  {
   "cell_type": "code",
   "execution_count": null,
   "id": "2044f8cf-ca0e-420c-99a2-9d77e1624284",
   "metadata": {},
   "outputs": [],
   "source": [
     "cost reduction slows down, which may indicate convergence\n"
   ]
  }
 ],
 "metadata": {
  "kernelspec": {
   "display_name": "Python 3 (ipykernel)",
   "language": "python",
   "name": "python3"
  },
  "language_info": {
   "codemirror_mode": {
    "name": "ipython",
    "version": 3
   },
   "file_extension": ".py",
   "mimetype": "text/x-python",
   "name": "python",
   "nbconvert_exporter": "python",
   "pygments_lexer": "ipython3",
   "version": "3.8.18"
  }
 },
 "nbformat": 4,
 "nbformat_minor": 5
}
